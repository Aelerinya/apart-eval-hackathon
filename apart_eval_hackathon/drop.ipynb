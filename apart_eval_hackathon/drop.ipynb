{
 "cells": [
  {
   "cell_type": "code",
   "execution_count": 1,
   "metadata": {},
   "outputs": [],
   "source": [
    "from drop_least_to_most import *"
   ]
  },
  {
   "cell_type": "code",
   "execution_count": null,
   "metadata": {},
   "outputs": [],
   "source": [
    "# decompose_question.clear_cache()"
   ]
  },
  {
   "cell_type": "code",
   "execution_count": 37,
   "metadata": {},
   "outputs": [
    {
     "name": "stdout",
     "output_type": "stream",
     "text": [
      "[True, True, True, True, True]\n"
     ]
    },
    {
     "data": {
      "text/plain": [
       "[['How many percent of refugees were from Western Thrace?'],\n",
       " ['When did the Battle of Stiklestad take place?',\n",
       "  'When did the Battle of Stamford Bridge take place?'],\n",
       " [],\n",
       " ['When were the first two lanes opened?',\n",
       "  'When were the last two lanes opened?'],\n",
       " ['What are the specific places where the Irish Defence Forces were involved in peace-keeping missions since 1960?']]"
      ]
     },
     "execution_count": 37,
     "metadata": {},
     "output_type": "execute_result"
    }
   ],
   "source": [
    "outs = []\n",
    "subqs = []\n",
    "results = []\n",
    "for i, ds in enumerate(drop_samples.nfb_number):\n",
    "    decomposition_completion, subquestions = decompose_question(ds)\n",
    "    assert subquestions is not None\n",
    "    subqs.append(subquestions)\n",
    "    answer_completion, out = answer_subquestions(tuple(subquestions), ds)\n",
    "    result = test_response(out, ds)\n",
    "    outs.append(out)\n",
    "    results.append(result)\n",
    "print(results)\n",
    "subqs"
   ]
  },
  {
   "cell_type": "code",
   "execution_count": 35,
   "metadata": {},
   "outputs": [
    {
     "name": "stdout",
     "output_type": "stream",
     "text": [
      "[True, True, True, True, True]\n"
     ]
    }
   ],
   "source": [
    "outs = []\n",
    "subqs = []\n",
    "results = []\n",
    "for i, ds in enumerate(drop_samples.nfb_span):\n",
    "    decomposition_completion, subquestions = decompose_question(ds)\n",
    "    # print(decomposition_completion)\n",
    "    assert subquestions is not None\n",
    "    answer_completion, out = answer_subquestions(tuple(subquestions), ds)\n",
    "    result = test_response(out, ds)\n",
    "    outs.append(out)\n",
    "    subqs.append(subquestions)\n",
    "    results.append(result)\n",
    "print(results)"
   ]
  },
  {
   "cell_type": "code",
   "execution_count": 36,
   "metadata": {},
   "outputs": [
    {
     "data": {
      "text/plain": [
       "[[],\n",
       " [],\n",
       " ['How many people are employed by Fort Wayne Air National Guard Station in Allen County?',\n",
       "  'How many people are employed by BAE Systems Inc. in Allen County?'],\n",
       " ['Did the Burmese try to take Ayutthaya before Kamphaeng Phet?'],\n",
       " ['What percentage of Americans in 2007 were overweight?',\n",
       "  'What percentage of Americans in 2007 were obese?']]"
      ]
     },
     "execution_count": 36,
     "metadata": {},
     "output_type": "execute_result"
    }
   ],
   "source": [
    "subqs"
   ]
  },
  {
   "cell_type": "code",
   "execution_count": 31,
   "metadata": {},
   "outputs": [
    {
     "data": {
      "text/plain": [
       "[]"
      ]
     },
     "execution_count": 31,
     "metadata": {},
     "output_type": "execute_result"
    }
   ],
   "source": [
    "from pprint import pprint\n",
    "import re\n",
    "\n",
    "def slice_output(s: str, ds: DropSample) -> list[str]:\n",
    "    assert prompt_solving in s\n",
    "    assert ds.passage in s\n",
    "    assert ds.question in s\n",
    "    s = s.replace(prompt_solving, \"\")\n",
    "    pprint(s.strip())\n",
    "    last_q_i = s.rfind(\"\\nQ:\")\n",
    "    last_a_i = s.rfind(\"\\nA:\")\n",
    "    assert last_q_i != -1\n",
    "    assert last_a_i != -1\n",
    "    last_a_i += 4\n",
    "    preprompt = s[:last_q_i].strip()\n",
    "    last_q = s[last_q_i:last_a_i]\n",
    "    \n",
    "    # qas = preprompt.split(ds.passage)\n",
    "    # pprint(qas)\n",
    "    pprint(preprompt)\n",
    "    print(\"==\" * 30)\n",
    "    print(last_q)\n",
    "ds = drop_samples.nfb_span[0]\n",
    "ds.question\n",
    "# slice_output(outs[0], ds)"
   ]
  },
  {
   "cell_type": "code",
   "execution_count": 4,
   "metadata": {},
   "outputs": [
    {
     "data": {
      "text/plain": [
       "'Which location did the Burmese try to take first, Ayutthaya or Kamphaeng Phet?'"
      ]
     },
     "execution_count": 4,
     "metadata": {},
     "output_type": "execute_result"
    }
   ],
   "source": [
    "ds.question"
   ]
  },
  {
   "cell_type": "code",
   "execution_count": 5,
   "metadata": {},
   "outputs": [
    {
     "data": {
      "text/plain": [
       "<OpenAIObject chat.completion id=chatcmpl-7pa3BafKsKqraKCrEw6jSfjPNrlC8 at 0x7fb7941ab710> JSON: {\n",
       "  \"id\": \"chatcmpl-7pa3BafKsKqraKCrEw6jSfjPNrlC8\",\n",
       "  \"object\": \"chat.completion\",\n",
       "  \"created\": 1692527661,\n",
       "  \"model\": \"gpt-3.5-turbo-0613\",\n",
       "  \"choices\": [\n",
       "    {\n",
       "      \"index\": 0,\n",
       "      \"message\": {\n",
       "        \"role\": \"assistant\",\n",
       "        \"content\": \"To answer the question \\\"Which location did the Burmese try to take first, Ayutthaya or Kamphaeng Phet?\\\", we need to refer to the information provided in the passage. The passage states that the Burmese forces advanced to the capital city of Ayutthaya but could not take the heavily fortified city. It then mentions that on retreat, the Burmese tried to take Kamphaeng Phet but it too was well defended. Therefore, the Burmese tried to take Ayutthaya first before attempting to take Kamphaeng Phet.\"\n",
       "      },\n",
       "      \"finish_reason\": \"stop\"\n",
       "    }\n",
       "  ],\n",
       "  \"usage\": {\n",
       "    \"prompt_tokens\": 1136,\n",
       "    \"completion_tokens\": 118,\n",
       "    \"total_tokens\": 1254\n",
       "  }\n",
       "}"
      ]
     },
     "execution_count": 5,
     "metadata": {},
     "output_type": "execute_result"
    }
   ],
   "source": [
    "decomposition_completion"
   ]
  },
  {
   "cell_type": "code",
   "execution_count": null,
   "metadata": {},
   "outputs": [],
   "source": []
  },
  {
   "cell_type": "code",
   "execution_count": null,
   "metadata": {},
   "outputs": [],
   "source": [
    "subquestions"
   ]
  },
  {
   "cell_type": "code",
   "execution_count": null,
   "metadata": {},
   "outputs": [],
   "source": [
    "from pprint import pprint\n",
    "pprint(outs[-1])"
   ]
  },
  {
   "cell_type": "code",
   "execution_count": null,
   "metadata": {},
   "outputs": [],
   "source": [
    "from pprint import pprint\n",
    "\n",
    "pprint(outs[0]);print(drop_samples.nfb_number[0].number)"
   ]
  },
  {
   "cell_type": "code",
   "execution_count": null,
   "metadata": {},
   "outputs": [],
   "source": [
    "from pprint import pprint\n",
    "pprint(ds.passage + \"\\n\\n\\n\" + ds.question)"
   ]
  },
  {
   "cell_type": "code",
   "execution_count": null,
   "metadata": {},
   "outputs": [],
   "source": [
    "decomposition_completion"
   ]
  },
  {
   "cell_type": "code",
   "execution_count": null,
   "metadata": {},
   "outputs": [],
   "source": [
    "answer_completion[0].choices[0].message.content"
   ]
  },
  {
   "cell_type": "code",
   "execution_count": null,
   "metadata": {},
   "outputs": [],
   "source": [
    "print(out)"
   ]
  },
  {
   "cell_type": "code",
   "execution_count": null,
   "metadata": {},
   "outputs": [],
   "source": [
    "subquestions"
   ]
  },
  {
   "cell_type": "code",
   "execution_count": null,
   "metadata": {},
   "outputs": [],
   "source": [
    "from pprint import pprint\n",
    "print(out)"
   ]
  }
 ],
 "metadata": {
  "kernelspec": {
   "display_name": ".venv",
   "language": "python",
   "name": "python3"
  },
  "language_info": {
   "codemirror_mode": {
    "name": "ipython",
    "version": 3
   },
   "file_extension": ".py",
   "mimetype": "text/x-python",
   "name": "python",
   "nbconvert_exporter": "python",
   "pygments_lexer": "ipython3",
   "version": "3.11.3"
  },
  "orig_nbformat": 4
 },
 "nbformat": 4,
 "nbformat_minor": 2
}
